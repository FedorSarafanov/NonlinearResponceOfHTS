{
 "cells": [
  {
   "cell_type": "code",
   "execution_count": 42,
   "metadata": {},
   "outputs": [
    {
     "name": "stderr",
     "output_type": "stream",
     "text": [
      "a: 1892.00062384484\n",
      "d: -30.0803321091676\n",
      "k: 3.95407152021392\n",
      "Sigma: 312.197894611666\n"
     ]
    },
    {
     "data": {
      "image/png": "[encoded data removed]",
      "text/plain": [
       "plot without title"
      ]
     },
     "metadata": {},
     "output_type": "display_data"
    }
   ],
   "source": [
    "dat=read.csv(\"MoN200.txt\", header=FALSE, stringsAsFactors=TRUE, sep=\"\\t\") \n",
    "#обрезаем входные данные на участке, который хотим аппрок-ть\n",
    "x=dat[,1][22941:23212] \n",
    "y=dat[,3][22941:23212]\n",
    "\n",
    "# Размер графика 4 x 3\n",
    "library(repr)\n",
    "options(repr.plot.width=4, repr.plot.height=3)\n",
    "\n",
    "#строим график входных данных\n",
    "plot(x,y, type=\"p\",col=\"red\", cex=0.5)\n",
    "\n",
    "# Находим коэффициенты нелинейной модели, задав начальные коэфф-ты\n",
    "fit5=nls(y~a*(1/(1+exp(-2*(k*x+d)))),start=list(a=1800,d=-34,k=5),trace=FALSE)\n",
    "a=coef(fit5)[1]\n",
    "d=coef(fit5)[2]\n",
    "k=coef(fit5)[3]\n",
    "\n",
    "# Среднеквадратичное отклонение от модели(sigma=sqrt(D))\n",
    "sigma=sqrt(sum(resid(fit5)^2))\n",
    "\n",
    "# Вывод результатов\n",
    "message(sprintf(\"a: %s\", a))\n",
    "message(sprintf(\"d: %s\", d))\n",
    "message(sprintf(\"k: %s\", k))\n",
    "message(sprintf(\"Sigma: %s\", sigma))\n",
    "\n",
    "#генерируем эквидистантный массив из 500 элементов на области определения y(x)\n",
    "xx = seq(min(x),max(x), length=500)\n",
    "\n",
    "#строим график аппроксимирующей кривой\n",
    "lines(xx, predict(fit5, data.frame(x=xx)), col=\"black\")\n"
   ]
  },
  {
   "cell_type": "code",
   "execution_count": 31,
   "metadata": {},
   "outputs": [],
   "source": [
    "?plot"
   ]
  },
  {
   "cell_type": "code",
   "execution_count": null,
   "metadata": {},
   "outputs": [],
   "source": []
  }
 ],
 "metadata": {
  "kernelspec": {
   "display_name": "R",
   "language": "R",
   "name": "ir"
  },
  "language_info": {
   "codemirror_mode": "r",
   "file_extension": ".r",
   "mimetype": "text/x-r-source",
   "name": "R",
   "pygments_lexer": "r",
   "version": "3.5.1"
  }
 },
 "nbformat": 4,
 "nbformat_minor": 2
}
